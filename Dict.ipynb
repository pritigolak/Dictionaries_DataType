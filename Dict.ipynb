{
 "cells": [
  {
   "cell_type": "markdown",
   "id": "ea42db2c-2815-49db-804b-3c28e623d4a4",
   "metadata": {},
   "source": [
    "# Dictionaries in Python :"
   ]
  },
  {
   "cell_type": "code",
   "execution_count": 89,
   "id": "e72bdb20-dc90-4a30-bc56-8daa721450de",
   "metadata": {},
   "outputs": [],
   "source": [
    "# Dictionaries are a fundamental data structure that allows you to store.\n",
    "# Dictionaries are also called as associative array and hash map in other programming languages.\n",
    "# Dictionaries are denoted by curly braces '{}'\n",
    "# key-value pairs separated by colon ':'."
   ]
  },
  {
   "cell_type": "code",
   "execution_count": 163,
   "id": "0a4b7b50-9b17-465e-abba-5bcbab40e0c2",
   "metadata": {},
   "outputs": [
    {
     "name": "stdout",
     "output_type": "stream",
     "text": [
      "Priti\n",
      "24\n",
      "Computer Science\n"
     ]
    }
   ],
   "source": [
    "# Create a dictionary :\n",
    "# For example ,\n",
    "\n",
    "Student = {\n",
    "    'Name' : 'Priti', 'Age' : 24, 'Subject' : 'Computer Science'}\n",
    "print(Student['Name'])\n",
    "print(Student['Age'])\n",
    "print(Student['Subject'])\n"
   ]
  },
  {
   "cell_type": "code",
   "execution_count": 165,
   "id": "dcc11c40-50a0-446c-91aa-e50958bd9220",
   "metadata": {},
   "outputs": [
    {
     "data": {
      "text/plain": [
       "dict_keys(['Name', 'Age', 'Subject'])"
      ]
     },
     "execution_count": 165,
     "metadata": {},
     "output_type": "execute_result"
    }
   ],
   "source": [
    "# To check keys this given dictionary dataset\n",
    "\n",
    "Student.keys()"
   ]
  },
  {
   "cell_type": "code",
   "execution_count": 167,
   "id": "e6189adc-68b9-456d-b1b7-368187cfb2fd",
   "metadata": {},
   "outputs": [
    {
     "data": {
      "text/plain": [
       "dict_values(['Priti', 24, 'Computer Science'])"
      ]
     },
     "execution_count": 167,
     "metadata": {},
     "output_type": "execute_result"
    }
   ],
   "source": [
    "# To check values this given dictionary dataset\n",
    "\n",
    "Student.values()"
   ]
  },
  {
   "cell_type": "code",
   "execution_count": 169,
   "id": "790d253e-7a79-488b-9237-947926c018bd",
   "metadata": {},
   "outputs": [
    {
     "data": {
      "text/plain": [
       "dict_items([('Name', 'Priti'), ('Age', 24), ('Subject', 'Computer Science')])"
      ]
     },
     "execution_count": 169,
     "metadata": {},
     "output_type": "execute_result"
    }
   ],
   "source": [
    "# To check items this given dictionary dataset\n",
    "\n",
    "Student.items()"
   ]
  },
  {
   "cell_type": "code",
   "execution_count": 171,
   "id": "1bada4d2-742d-42ab-9679-2df543109d1a",
   "metadata": {},
   "outputs": [
    {
     "data": {
      "text/plain": [
       "'Pune'"
      ]
     },
     "execution_count": 171,
     "metadata": {},
     "output_type": "execute_result"
    }
   ],
   "source": [
    "# To check pune city \n",
    "\n",
    "v=[0,1,2,3,[8,{5:[67,89,90,{'Area':'Kharadi','City':'Pune'}]}]]\n",
    "v[4][1][5][3]['City']"
   ]
  },
  {
   "cell_type": "markdown",
   "id": "4f3874da-09ee-4699-9392-aff23cb54927",
   "metadata": {},
   "source": [
    "# Dictionary Methods :"
   ]
  },
  {
   "cell_type": "code",
   "execution_count": 174,
   "id": "8b66c71a-1412-43af-9ac0-8cca44670c50",
   "metadata": {},
   "outputs": [
    {
     "name": "stdout",
     "output_type": "stream",
     "text": [
      "Priti\n",
      "24\n",
      "Computer Science\n"
     ]
    }
   ],
   "source": [
    "Student = {\n",
    "    'Name' : 'Priti',\n",
    "    'Age' : 24,\n",
    "    'Subject' : 'Computer Science'\n",
    "}\n",
    "print(Student['Name'])\n",
    "print(Student['Age'])\n",
    "print(Student['Subject'])"
   ]
  },
  {
   "cell_type": "code",
   "execution_count": 176,
   "id": "a8c65680-0f15-487b-a543-e44162e84da6",
   "metadata": {},
   "outputs": [
    {
     "name": "stdout",
     "output_type": "stream",
     "text": [
      "Priti\n",
      "24\n",
      "Computer Science\n",
      "89.76\n"
     ]
    }
   ],
   "source": [
    "Student = {\n",
    "    'Name' : 'Priti',\n",
    "    'Age' : 24,\n",
    "    'Subject' : 'Computer Science'\n",
    "}\n",
    "print(Student['Name'])\n",
    "print(Student['Age'])\n",
    "print(Student['Subject'])\n",
    "\n",
    "# Add ()\n",
    "# Add the element\n",
    "# For example ,\n",
    "\n",
    "Student['Percentage']=89.76\n",
    "print(Student['Percentage'])"
   ]
  },
  {
   "cell_type": "code",
   "execution_count": 177,
   "id": "bf76c3fa-8fee-411c-bcd6-a004b0e7bd4b",
   "metadata": {},
   "outputs": [
    {
     "data": {
      "text/plain": [
       "{'Name': 'Samiksha',\n",
       " 'Age': 24,\n",
       " 'Subject': 'Computer Science',\n",
       " 'Percentage': 89.76}"
      ]
     },
     "execution_count": 177,
     "metadata": {},
     "output_type": "execute_result"
    }
   ],
   "source": [
    "# update()\t\n",
    "# Update dict with new key-value pairs\n",
    "# For example ,\n",
    "\n",
    "Student.update({'Name':'Samiksha'})\n",
    "Student"
   ]
  },
  {
   "cell_type": "code",
   "execution_count": 178,
   "id": "881edf56-7cf5-459b-bcd8-0f3db5c45175",
   "metadata": {},
   "outputs": [
    {
     "data": {
      "text/plain": [
       "{'Name': 'Samiksha', 'Subject': 'Computer Science', 'Percentage': 89.76}"
      ]
     },
     "execution_count": 178,
     "metadata": {},
     "output_type": "execute_result"
    }
   ],
   "source": [
    "# pop()\t\n",
    "# Remove and return value for key\n",
    "# For example , \n",
    "\n",
    "Student.pop('Age')\n",
    "Student"
   ]
  },
  {
   "cell_type": "code",
   "execution_count": 179,
   "id": "3c900035-49f4-4ced-918c-7465673801f4",
   "metadata": {},
   "outputs": [
    {
     "data": {
      "text/plain": [
       "{'Name': 'Samiksha', 'Subject': 'Computer Science', 'Percentage': 89.76}"
      ]
     },
     "execution_count": 179,
     "metadata": {},
     "output_type": "execute_result"
    }
   ],
   "source": [
    "# keys()\t\n",
    "# Return view of keys\n",
    "# For example ,\n",
    "\n",
    "Student.keys()\n",
    "Student"
   ]
  },
  {
   "cell_type": "code",
   "execution_count": 180,
   "id": "b8dd6884-84a1-446d-a97b-40643d16d3e9",
   "metadata": {},
   "outputs": [
    {
     "name": "stdout",
     "output_type": "stream",
     "text": [
      "Priti\n",
      "24\n",
      "Computer Science\n",
      "{'Name': 'Priti', 'Age': 24, 'Subject': 'Computer Science'}\n"
     ]
    }
   ],
   "source": [
    "# copy()\n",
    "# Returns a shallow copy of the dictionary.\n",
    "# For example ,\n",
    "\n",
    "Student = {\n",
    "    'Name' : 'Priti',\n",
    "    'Age' : 24,\n",
    "    'Subject' : 'Computer Science'\n",
    "}\n",
    "print(Student['Name'])\n",
    "print(Student['Age'])\n",
    "print(Student['Subject'])\n",
    "new_stud = Student.copy()\n",
    "print(new_stud)"
   ]
  },
  {
   "cell_type": "code",
   "execution_count": 181,
   "id": "b3d077f1-e73d-44b1-a73e-dab4164f0eaa",
   "metadata": {},
   "outputs": [
    {
     "data": {
      "text/plain": [
       "dict_items([('Name', 'Priti'), ('Age', 24), ('Subject', 'Computer Science')])"
      ]
     },
     "execution_count": 181,
     "metadata": {},
     "output_type": "execute_result"
    }
   ],
   "source": [
    "Student.items()"
   ]
  },
  {
   "cell_type": "code",
   "execution_count": null,
   "id": "e0da64a6-af0e-4f78-9a75-7f384a097db4",
   "metadata": {},
   "outputs": [],
   "source": []
  },
  {
   "cell_type": "code",
   "execution_count": null,
   "id": "d814756b-046f-489f-9e82-626eeb409334",
   "metadata": {},
   "outputs": [],
   "source": []
  },
  {
   "cell_type": "code",
   "execution_count": null,
   "id": "1913761a-d51f-41ee-8b8c-ad976d48b11d",
   "metadata": {},
   "outputs": [],
   "source": []
  },
  {
   "cell_type": "code",
   "execution_count": null,
   "id": "646aa22b-8c2f-4b05-a3e5-18b292af895f",
   "metadata": {},
   "outputs": [],
   "source": []
  },
  {
   "cell_type": "code",
   "execution_count": null,
   "id": "ed619b31-f97c-4b0b-b671-63c5f1e1ae49",
   "metadata": {},
   "outputs": [],
   "source": []
  },
  {
   "cell_type": "code",
   "execution_count": null,
   "id": "3e540f99-b78e-46a4-9cbd-fdd7e1ee1a3e",
   "metadata": {},
   "outputs": [],
   "source": []
  }
 ],
 "metadata": {
  "kernelspec": {
   "display_name": "Python 3 (ipykernel)",
   "language": "python",
   "name": "python3"
  },
  "language_info": {
   "codemirror_mode": {
    "name": "ipython",
    "version": 3
   },
   "file_extension": ".py",
   "mimetype": "text/x-python",
   "name": "python",
   "nbconvert_exporter": "python",
   "pygments_lexer": "ipython3",
   "version": "3.12.4"
  }
 },
 "nbformat": 4,
 "nbformat_minor": 5
}
